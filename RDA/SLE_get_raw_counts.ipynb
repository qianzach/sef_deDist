{
 "cells": [
  {
   "cell_type": "code",
   "execution_count": null,
   "id": "f68e3bcf",
   "metadata": {},
   "outputs": [],
   "source": [
    "import scanpy as sc\n",
    "adata = sc.read_h5ad(\"/Users/zaqian/Desktop/OLD_LUPUS/raw_lupus.h5ad\", backed =\"r\")\n",
    "adata.X = adata.raw.X\n",
    "adata.write(\"/Users/zaqian/Desktop/lupus_data/raw_lupus.h5ad\")"
   ]
  }
 ],
 "metadata": {
  "language_info": {
   "name": "python"
  }
 },
 "nbformat": 4,
 "nbformat_minor": 5
}
